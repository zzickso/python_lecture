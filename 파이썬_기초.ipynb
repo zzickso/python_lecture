{
  "nbformat": 4,
  "nbformat_minor": 0,
  "metadata": {
    "colab": {
      "name": "파이썬 기초",
      "provenance": [],
      "collapsed_sections": [],
      "authorship_tag": "ABX9TyNiDNqLji6Q8Bcz7dvgLrAL",
      "include_colab_link": true
    },
    "kernelspec": {
      "name": "python3",
      "display_name": "Python 3"
    },
    "language_info": {
      "name": "python"
    }
  },
  "cells": [
    {
      "cell_type": "markdown",
      "metadata": {
        "id": "view-in-github",
        "colab_type": "text"
      },
      "source": [
        "<a href=\"https://colab.research.google.com/github/zzickso/python_lecture/blob/main/%ED%8C%8C%EC%9D%B4%EC%8D%AC_%EA%B8%B0%EC%B4%88.ipynb\" target=\"_parent\"><img src=\"https://colab.research.google.com/assets/colab-badge.svg\" alt=\"Open In Colab\"/></a>"
      ]
    },
    {
      "cell_type": "code",
      "metadata": {
        "colab": {
          "base_uri": "https://localhost:8080/"
        },
        "id": "--UtdPq0QYzq",
        "outputId": "e238ec01-2c68-4c49-f7fe-e0f916034aa3"
      },
      "source": [
        "#enumerate\n",
        "num=[2,4,6,8,10,12,14]\n",
        "for i,n in enumerate(num):\n",
        "    num[i]=n*13\n",
        "    print(num)"
      ],
      "execution_count": 22,
      "outputs": [
        {
          "output_type": "stream",
          "text": [
            "[26, 4, 6, 8, 10, 12, 14]\n",
            "[26, 52, 6, 8, 10, 12, 14]\n",
            "[26, 52, 78, 8, 10, 12, 14]\n",
            "[26, 52, 78, 104, 10, 12, 14]\n",
            "[26, 52, 78, 104, 130, 12, 14]\n",
            "[26, 52, 78, 104, 130, 156, 14]\n",
            "[26, 52, 78, 104, 130, 156, 182]\n"
          ],
          "name": "stdout"
        }
      ]
    },
    {
      "cell_type": "code",
      "metadata": {
        "colab": {
          "base_uri": "https://localhost:8080/"
        },
        "id": "WFtsIAQoXVo7",
        "outputId": "a033a82f-452e-4a11-e916-31856382fdc1"
      },
      "source": [
        "#행렬\n",
        "import numpy as np\n",
        "\n",
        "x= np.array([[1,2,3],[4,5,6],[1,2,3,],[1,1,1]])\n",
        "print(x)\n",
        "x.shape #행렬의 크기"
      ],
      "execution_count": 72,
      "outputs": [
        {
          "output_type": "stream",
          "text": [
            "[[1 2 3]\n",
            " [4 5 6]\n",
            " [1 2 3]\n",
            " [1 1 1]]\n"
          ],
          "name": "stdout"
        },
        {
          "output_type": "execute_result",
          "data": {
            "text/plain": [
              "(4, 3)"
            ]
          },
          "metadata": {
            "tags": []
          },
          "execution_count": 72
        }
      ]
    },
    {
      "cell_type": "code",
      "metadata": {
        "colab": {
          "base_uri": "https://localhost:8080/"
        },
        "id": "ee3VtyM7E6kG",
        "outputId": "ee4bc281-4921-4fce-8ae9-3c83689e236c"
      },
      "source": [
        "a= np.array([1,1,1])\n",
        "b= a.copy() #ndarray형의 복사\n",
        "print('a='+ str(a))\n",
        "print(b)\n",
        "b[0]=100 #요소의 수정\n",
        "print(b)\n",
        "print(a)"
      ],
      "execution_count": 38,
      "outputs": [
        {
          "output_type": "stream",
          "text": [
            "a=[1 1 1]\n",
            "[1 1 1]\n",
            "[100   1   1]\n",
            "[1 1 1]\n"
          ],
          "name": "stdout"
        }
      ]
    },
    {
      "cell_type": "code",
      "metadata": {
        "colab": {
          "base_uri": "https://localhost:8080/"
        },
        "id": "CWlh8Ja_IP3P",
        "outputId": "d1f3cab1-6eb2-408b-942d-59d6bb904833"
      },
      "source": [
        "#연속된 정수 벡터의 생성\n",
        "np.arange(10)"
      ],
      "execution_count": 39,
      "outputs": [
        {
          "output_type": "execute_result",
          "data": {
            "text/plain": [
              "array([0, 1, 2, 3, 4, 5, 6, 7, 8, 9])"
            ]
          },
          "metadata": {
            "tags": []
          },
          "execution_count": 39
        }
      ]
    },
    {
      "cell_type": "code",
      "metadata": {
        "colab": {
          "base_uri": "https://localhost:8080/"
        },
        "id": "NWemQcLoJREk",
        "outputId": "992ee98a-99f6-47d4-87c1-6571d3cc5e8d"
      },
      "source": [
        "x = np.array([[1,2,3],[4,5,6]])\n",
        "x[0,0]=100\n",
        "x"
      ],
      "execution_count": 46,
      "outputs": [
        {
          "output_type": "execute_result",
          "data": {
            "text/plain": [
              "array([[100,   2,   3],\n",
              "       [  4,   5,   6]])"
            ]
          },
          "metadata": {
            "tags": []
          },
          "execution_count": 46
        }
      ]
    },
    {
      "cell_type": "code",
      "metadata": {
        "colab": {
          "base_uri": "https://localhost:8080/"
        },
        "id": "FJzi8OjEJ-xO",
        "outputId": "33fd40ca-6165-4f77-c671-2e9c28b07cb4"
      },
      "source": [
        "np.zeros(5)"
      ],
      "execution_count": 47,
      "outputs": [
        {
          "output_type": "execute_result",
          "data": {
            "text/plain": [
              "array([0., 0., 0., 0., 0.])"
            ]
          },
          "metadata": {
            "tags": []
          },
          "execution_count": 47
        }
      ]
    },
    {
      "cell_type": "code",
      "metadata": {
        "colab": {
          "base_uri": "https://localhost:8080/"
        },
        "id": "O2DbbxW8KVNF",
        "outputId": "bfbf2317-6183-4b7a-cee5-296e4a1cedb3"
      },
      "source": [
        "np.zeros((2,5))"
      ],
      "execution_count": 49,
      "outputs": [
        {
          "output_type": "execute_result",
          "data": {
            "text/plain": [
              "array([[0., 0., 0., 0., 0.],\n",
              "       [0., 0., 0., 0., 0.]])"
            ]
          },
          "metadata": {
            "tags": []
          },
          "execution_count": 49
        }
      ]
    },
    {
      "cell_type": "code",
      "metadata": {
        "colab": {
          "base_uri": "https://localhost:8080/"
        },
        "id": "1AAaa216KY88",
        "outputId": "3a301069-9aee-4fbd-c4d4-ae59bcb1b0d3"
      },
      "source": [
        "np.ones((2,5))"
      ],
      "execution_count": 50,
      "outputs": [
        {
          "output_type": "execute_result",
          "data": {
            "text/plain": [
              "array([[1., 1., 1., 1., 1.],\n",
              "       [1., 1., 1., 1., 1.]])"
            ]
          },
          "metadata": {
            "tags": []
          },
          "execution_count": 50
        }
      ]
    },
    {
      "cell_type": "code",
      "metadata": {
        "colab": {
          "base_uri": "https://localhost:8080/"
        },
        "id": "2GkPvI_GKix8",
        "outputId": "3b3c7d06-8458-40bd-a3e3-5431f1dc4431"
      },
      "source": [
        "#요소가 랜덤인 행렬\n",
        "#각 요소는 0~1 균일한 분포 행렬 형태로 생성함\n",
        "#np.random.randn(siez) 평균0 분산 1의 가우스 분포로 난수 생성\n",
        "np.random.rand(2,3)"
      ],
      "execution_count": 51,
      "outputs": [
        {
          "output_type": "execute_result",
          "data": {
            "text/plain": [
              "array([[0.74789713, 0.76818232, 0.23164295],\n",
              "       [0.54515609, 0.89355127, 0.49549967]])"
            ]
          },
          "metadata": {
            "tags": []
          },
          "execution_count": 51
        }
      ]
    },
    {
      "cell_type": "code",
      "metadata": {
        "colab": {
          "base_uri": "https://localhost:8080/"
        },
        "id": "cSan57aiKsMN",
        "outputId": "ee420282-2962-4b13-8466-f6f3fe2c0b74"
      },
      "source": [
        "#행렬의 크기 변경\n",
        "x= np.array([[1,2,3],[4,5,6],[1,2,3,]])\n",
        "x\n",
        "x.reshape(9,)"
      ],
      "execution_count": 71,
      "outputs": [
        {
          "output_type": "execute_result",
          "data": {
            "text/plain": [
              "array([1, 2, 3, 4, 5, 6, 1, 2, 3])"
            ]
          },
          "metadata": {
            "tags": []
          },
          "execution_count": 71
        }
      ]
    },
    {
      "cell_type": "code",
      "metadata": {
        "colab": {
          "base_uri": "https://localhost:8080/"
        },
        "id": "PsYNe_GlK2zT",
        "outputId": "471997c4-ba65-400f-a597-7334b2edb255"
      },
      "source": [
        "#행렬의 사칙연산\n",
        "x=np.array([[4,4,4],[8,8,7]])\n",
        "y=np.array([[1,2,3],[4,5,6]])\n",
        "print(x+y)"
      ],
      "execution_count": 74,
      "outputs": [
        {
          "output_type": "stream",
          "text": [
            "[[ 5  6  7]\n",
            " [12 13 13]]\n"
          ],
          "name": "stdout"
        }
      ]
    },
    {
      "cell_type": "code",
      "metadata": {
        "colab": {
          "base_uri": "https://localhost:8080/"
        },
        "id": "oVWp9Um8NF29",
        "outputId": "ed05fcd8-f9db-4906-a68b-8539df357180"
      },
      "source": [
        "x=np.array([[4,4,4],[8,8,7]])\n",
        "y=np.array([[1,2,3],[4,5,6]])\n",
        "print(x*y)"
      ],
      "execution_count": 75,
      "outputs": [
        {
          "output_type": "stream",
          "text": [
            "[[ 4  8 12]\n",
            " [32 40 42]]\n"
          ],
          "name": "stdout"
        }
      ]
    },
    {
      "cell_type": "code",
      "metadata": {
        "colab": {
          "base_uri": "https://localhost:8080/"
        },
        "id": "aotPBGBINPO8",
        "outputId": "e4334316-f967-4ad2-c2e5-d6d7e1fa9a39"
      },
      "source": [
        "x=np.array([[4,4,4],[8,8,7]])\n",
        "y=np.array([[1,2,3],[4,5,6]])\n",
        "print(10*x,y)"
      ],
      "execution_count": 76,
      "outputs": [
        {
          "output_type": "stream",
          "text": [
            "[[40 40 40]\n",
            " [80 80 70]] [[1 2 3]\n",
            " [4 5 6]]\n"
          ],
          "name": "stdout"
        }
      ]
    },
    {
      "cell_type": "code",
      "metadata": {
        "colab": {
          "base_uri": "https://localhost:8080/"
        },
        "id": "qqATFjXwNZBM",
        "outputId": "55a1595f-ea7e-4646-b5a2-6efada2233f6"
      },
      "source": [
        "#산술 함수\n",
        "x=np.array([[4,4,4],[8,8,7]])\n",
        "np.exp(x)"
      ],
      "execution_count": 77,
      "outputs": [
        {
          "output_type": "execute_result",
          "data": {
            "text/plain": [
              "array([[  54.59815003,   54.59815003,   54.59815003],\n",
              "       [2980.95798704, 2980.95798704, 1096.63315843]])"
            ]
          },
          "metadata": {
            "tags": []
          },
          "execution_count": 77
        }
      ]
    },
    {
      "cell_type": "code",
      "metadata": {
        "colab": {
          "base_uri": "https://localhost:8080/"
        },
        "id": "dWVJG11_NiJM",
        "outputId": "7267df90-4213-4378-a869-d6c47d556506"
      },
      "source": [
        "#행렬 곱의 계산\n",
        "x=np.array([[4,4,4],[8,8,7]])\n",
        "y=np.array([[1,2],[5,6],[2,2]])\n",
        "print(x.dot(y))\n",
        "\n",
        "x=np.array([[4,4,4],[8,8,7]])\n",
        "y=np.array([[2,2],[5,6],[2,2]])\n",
        "print(x.dot(y))\n",
        "\n",
        "x=np.array([[4,4,4],[8,8,7]])\n",
        "y=np.array([[3,2],[5,6],[2,2]])\n",
        "print(x.dot(y))"
      ],
      "execution_count": 84,
      "outputs": [
        {
          "output_type": "stream",
          "text": [
            "[[32 40]\n",
            " [62 78]]\n",
            "[[36 40]\n",
            " [70 78]]\n",
            "[[40 40]\n",
            " [78 78]]\n"
          ],
          "name": "stdout"
        }
      ]
    },
    {
      "cell_type": "code",
      "metadata": {
        "colab": {
          "base_uri": "https://localhost:8080/"
        },
        "id": "oimM-jxaN1jm",
        "outputId": "f4e4b9de-a726-4e7d-8886-8daebc2912b0"
      },
      "source": [
        "#슬라이싱(참조)\n",
        "x=np.arange(10)\n",
        "print(x)\n",
        "print(x[:5]) # :n\n",
        "\n",
        "# n:\n",
        "print(x[5:])\n",
        "\n",
        "#[n1:n2:dn]-----n2-n1 범위에서 dn간격\n",
        "print(x[3:8:2])\n",
        "print(x[3:7:2])\n",
        "print(x[3:10:1])\n"
      ],
      "execution_count": 91,
      "outputs": [
        {
          "output_type": "stream",
          "text": [
            "[0 1 2 3 4 5 6 7 8 9]\n",
            "[0 1 2 3 4]\n",
            "[5 6 7 8 9]\n",
            "[3 5 7]\n",
            "[3 5]\n",
            "[3 4 5 6 7 8 9]\n"
          ],
          "name": "stdout"
        }
      ]
    },
    {
      "cell_type": "code",
      "metadata": {
        "colab": {
          "base_uri": "https://localhost:8080/"
        },
        "id": "HXl_88Vlf6nG",
        "outputId": "0130a7b4-71f0-4699-8817-c6f832f8c439"
      },
      "source": [
        "# bool 배열 사용\n",
        "x=np.array([1,1,2,3,5,5,8,13])\n",
        "x>3"
      ],
      "execution_count": 100,
      "outputs": [
        {
          "output_type": "execute_result",
          "data": {
            "text/plain": [
              "array([False, False, False, False,  True,  True,  True,  True])"
            ]
          },
          "metadata": {
            "tags": []
          },
          "execution_count": 100
        }
      ]
    },
    {
      "cell_type": "code",
      "metadata": {
        "colab": {
          "base_uri": "https://localhost:8080/"
        },
        "id": "g_2S-UEijmwG",
        "outputId": "585daa74-85f9-4dba-893e-1fd1ec79adee"
      },
      "source": [
        "x[x>3]"
      ],
      "execution_count": 101,
      "outputs": [
        {
          "output_type": "execute_result",
          "data": {
            "text/plain": [
              "array([ 5,  5,  8, 13])"
            ]
          },
          "metadata": {
            "tags": []
          },
          "execution_count": 101
        }
      ]
    },
    {
      "cell_type": "code",
      "metadata": {
        "colab": {
          "base_uri": "https://localhost:8080/"
        },
        "id": "i-s0LJGEjRmz",
        "outputId": "ef9226ad-7de7-4594-8bec-0558d7ab56ed"
      },
      "source": [
        "x[x>3]=999\n",
        "print(x)"
      ],
      "execution_count": 102,
      "outputs": [
        {
          "output_type": "stream",
          "text": [
            "[  1   1   2   3 999 999 999 999]\n"
          ],
          "name": "stdout"
        }
      ]
    },
    {
      "cell_type": "code",
      "metadata": {
        "colab": {
          "base_uri": "https://localhost:8080/"
        },
        "id": "3SpniqhbjqtW",
        "outputId": "488e03b8-c06b-4853-8d6d-535e725a1bdc"
      },
      "source": [
        "#help 사용\n",
        "help(np.random.randint)"
      ],
      "execution_count": 103,
      "outputs": [
        {
          "output_type": "stream",
          "text": [
            "Help on built-in function randint:\n",
            "\n",
            "randint(...) method of numpy.random.mtrand.RandomState instance\n",
            "    randint(low, high=None, size=None, dtype=int)\n",
            "    \n",
            "    Return random integers from `low` (inclusive) to `high` (exclusive).\n",
            "    \n",
            "    Return random integers from the \"discrete uniform\" distribution of\n",
            "    the specified dtype in the \"half-open\" interval [`low`, `high`). If\n",
            "    `high` is None (the default), then results are from [0, `low`).\n",
            "    \n",
            "    .. note::\n",
            "        New code should use the ``integers`` method of a ``default_rng()``\n",
            "        instance instead; please see the :ref:`random-quick-start`.\n",
            "    \n",
            "    Parameters\n",
            "    ----------\n",
            "    low : int or array-like of ints\n",
            "        Lowest (signed) integers to be drawn from the distribution (unless\n",
            "        ``high=None``, in which case this parameter is one above the\n",
            "        *highest* such integer).\n",
            "    high : int or array-like of ints, optional\n",
            "        If provided, one above the largest (signed) integer to be drawn\n",
            "        from the distribution (see above for behavior if ``high=None``).\n",
            "        If array-like, must contain integer values\n",
            "    size : int or tuple of ints, optional\n",
            "        Output shape.  If the given shape is, e.g., ``(m, n, k)``, then\n",
            "        ``m * n * k`` samples are drawn.  Default is None, in which case a\n",
            "        single value is returned.\n",
            "    dtype : dtype, optional\n",
            "        Desired dtype of the result. Byteorder must be native.\n",
            "        The default value is int.\n",
            "    \n",
            "        .. versionadded:: 1.11.0\n",
            "    \n",
            "    Returns\n",
            "    -------\n",
            "    out : int or ndarray of ints\n",
            "        `size`-shaped array of random integers from the appropriate\n",
            "        distribution, or a single such random int if `size` not provided.\n",
            "    \n",
            "    See Also\n",
            "    --------\n",
            "    random_integers : similar to `randint`, only for the closed\n",
            "        interval [`low`, `high`], and 1 is the lowest value if `high` is\n",
            "        omitted.\n",
            "    Generator.integers: which should be used for new code.\n",
            "    \n",
            "    Examples\n",
            "    --------\n",
            "    >>> np.random.randint(2, size=10)\n",
            "    array([1, 0, 0, 0, 1, 1, 0, 0, 1, 0]) # random\n",
            "    >>> np.random.randint(1, size=10)\n",
            "    array([0, 0, 0, 0, 0, 0, 0, 0, 0, 0])\n",
            "    \n",
            "    Generate a 2 x 4 array of ints between 0 and 4, inclusive:\n",
            "    \n",
            "    >>> np.random.randint(5, size=(2, 4))\n",
            "    array([[4, 0, 2, 1], # random\n",
            "           [3, 2, 2, 0]])\n",
            "    \n",
            "    Generate a 1 x 3 array with 3 different upper bounds\n",
            "    \n",
            "    >>> np.random.randint(1, [3, 5, 10])\n",
            "    array([2, 2, 9]) # random\n",
            "    \n",
            "    Generate a 1 by 3 array with 3 different lower bounds\n",
            "    \n",
            "    >>> np.random.randint([1, 5, 7], 10)\n",
            "    array([9, 8, 7]) # random\n",
            "    \n",
            "    Generate a 2 by 4 array using broadcasting with dtype of uint8\n",
            "    \n",
            "    >>> np.random.randint([1, 3, 5, 7], [[10], [20]], dtype=np.uint8)\n",
            "    array([[ 8,  6,  9,  7], # random\n",
            "           [ 1, 16,  9, 12]], dtype=uint8)\n",
            "\n"
          ],
          "name": "stdout"
        }
      ]
    },
    {
      "cell_type": "code",
      "metadata": {
        "colab": {
          "base_uri": "https://localhost:8080/"
        },
        "id": "dDd4UiL0kHNP",
        "outputId": "de2c6ed8-2a06-44cf-c290-1b96a3dc021c"
      },
      "source": [
        "#함수\n",
        "def my_func1():\n",
        "    print('Hi')\n",
        "my_func1"
      ],
      "execution_count": 104,
      "outputs": [
        {
          "output_type": "execute_result",
          "data": {
            "text/plain": [
              "<function __main__.my_func1>"
            ]
          },
          "metadata": {
            "tags": []
          },
          "execution_count": 104
        }
      ]
    },
    {
      "cell_type": "code",
      "metadata": {
        "colab": {
          "base_uri": "https://localhost:8080/"
        },
        "id": "P5r-_aTjk494",
        "outputId": "baea1b04-52ed-40bd-c74e-d8f36c180536"
      },
      "source": [
        "def my_func2(a,b):\n",
        "    c= a+b\n",
        "    return c\n",
        "\n",
        "my_func2(1,2)"
      ],
      "execution_count": 108,
      "outputs": [
        {
          "output_type": "execute_result",
          "data": {
            "text/plain": [
              "3"
            ]
          },
          "metadata": {
            "tags": []
          },
          "execution_count": 108
        }
      ]
    },
    {
      "cell_type": "code",
      "metadata": {
        "colab": {
          "base_uri": "https://localhost:8080/"
        },
        "id": "zWk2MejqlDUv",
        "outputId": "dc8cc56d-9721-46a0-9fcf-d62e00f7be0a"
      },
      "source": [
        "def my_func3(D):\n",
        "    m=np.mean(D)\n",
        "    s=np.std(D)\n",
        "    return m,s\n",
        "\n",
        "data=np.random.randn(100)\n",
        "data_mean,data_std=my_func3(data)\n",
        "print('mean:{0:3.2f},std:{1:3.2f}'.format(data_mean,data_std))"
      ],
      "execution_count": 115,
      "outputs": [
        {
          "output_type": "stream",
          "text": [
            "mean:0.02,std:0.99\n"
          ],
          "name": "stdout"
        }
      ]
    },
    {
      "cell_type": "code",
      "metadata": {
        "colab": {
          "base_uri": "https://localhost:8080/"
        },
        "id": "Dti5YSDHldcQ",
        "outputId": "b5864ef5-8bb8-4d0b-c59e-44c1c109e04d"
      },
      "source": [
        "#파일 저장\n",
        "data= np.random.randn(5)\n",
        "print(data)\n",
        "np.save('datafile.npy', data) #세이브\n",
        "data=[] #데이터 삭제\n",
        "print(data)\n",
        "data=np.load('datafile.npy') #로드\n",
        "print(data)"
      ],
      "execution_count": 116,
      "outputs": [
        {
          "output_type": "stream",
          "text": [
            "[ 1.19317012 -0.53741071  0.40968409 -1.3885558   0.25644573]\n",
            "[]\n",
            "[ 1.19317012 -0.53741071  0.40968409 -1.3885558   0.25644573]\n"
          ],
          "name": "stdout"
        }
      ]
    },
    {
      "cell_type": "code",
      "metadata": {
        "colab": {
          "base_uri": "https://localhost:8080/"
        },
        "id": "En670obTmWo7",
        "outputId": "2bebf9b3-7291-4be3-869e-a7c030f4ab2b"
      },
      "source": [
        "#여려 ndarray 형을 저장\n",
        "data1= np.array([1,2,3])\n",
        "data2= np.array([10,20,30])\n",
        "np.savez('datafile2.npz',data1=data1, data2=data2) #세이브\n",
        "data1=[] #데이터 삭제\n",
        "data2=[]\n",
        "outfile=np.load('datafile2.npz') #로드\n",
        "print(outfile.files) #저장된 데이터 표시\n",
        "data1= outfile['data1']#data1 꺼내기\n",
        "data2= outfile['data2']#data2 꺼내기\n",
        "print(data1)\n",
        "print(data2)"
      ],
      "execution_count": 117,
      "outputs": [
        {
          "output_type": "stream",
          "text": [
            "['data1', 'data2']\n",
            "[1 2 3]\n",
            "[10 20 30]\n"
          ],
          "name": "stdout"
        }
      ]
    },
    {
      "cell_type": "code",
      "metadata": {
        "id": "pwWiNzfdu5fh"
      },
      "source": [
        ""
      ],
      "execution_count": null,
      "outputs": []
    }
  ]
}